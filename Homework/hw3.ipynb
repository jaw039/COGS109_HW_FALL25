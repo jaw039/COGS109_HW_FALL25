{
 "cells": [
  {
   "cell_type": "markdown",
   "id": "lzcCRc5nwYQx",
   "metadata": {
    "id": "lzcCRc5nwYQx"
   },
   "source": [
    "# Homework 3 - Logistic Regression\n",
    "**Estimated completion time: 2.5 hours (including write-up)**\n",
    "\n",
    "**Goal:** Build a binary **multiple logistic regression** model to predict **`status`** (`0 = alive`, `1 = deceased`) from predictors in the ISLP [**Brain Cancer**](https://islp.readthedocs.io/en/latest/datasets/BrainCancer.html) dataset.\n",
    "\n",
    "**Workflow:**\n",
    "\n",
    "0) **Setup packages and load dataset**\n",
    "1) **Simple EDA**\n",
    "2) **Fit a binary outcome, multiple logistic regression model** to predict **`status`** using `statsmodels.Logit`\n",
    "3) **Predict and evaluate with `sklearn.LogisticRegression`**\n",
    "4) Compute **classification accuracy** and **ROC/AUC** (test).\n",
    "\n",
    "> **Comments marked **# YOUR CODE HERE** must be completed for the code to run\n",
    "\n",
    "> **Please also make sure you are pasting your plots and answering any questions in the document in the **main homework document**, not in this notebook."
   ]
  },
  {
   "cell_type": "markdown",
   "id": "zNj1b3hawYQz",
   "metadata": {
    "id": "zNj1b3hawYQz"
   },
   "source": [
    "## 0) Setup (imports)\n",
    "If running locally and something is missing, install `ISLP`, `statsmodels`, and `scikit-learn`."
   ]
  },
  {
   "cell_type": "code",
   "execution_count": 1,
   "id": "tJTY3n01wYQz",
   "metadata": {
    "colab": {
     "base_uri": "https://localhost:8080/"
    },
    "executionInfo": {
     "elapsed": 28973,
     "status": "ok",
     "timestamp": 1760334559685,
     "user": {
      "displayName": "Lucy Lai",
      "userId": "13106468595873100443"
     },
     "user_tz": 420
    },
    "id": "tJTY3n01wYQz",
    "outputId": "79a76814-26a7-4632-8add-4b28d9769542"
   },
   "outputs": [
    {
     "name": "stdout",
     "output_type": "stream",
     "text": [
      "\n",
      "\u001b[1m[\u001b[0m\u001b[34;49mnotice\u001b[0m\u001b[1;39;49m]\u001b[0m\u001b[39;49m A new release of pip is available: \u001b[0m\u001b[31;49m24.2\u001b[0m\u001b[39;49m -> \u001b[0m\u001b[32;49m25.2\u001b[0m\n",
      "\u001b[1m[\u001b[0m\u001b[34;49mnotice\u001b[0m\u001b[1;39;49m]\u001b[0m\u001b[39;49m To update, run: \u001b[0m\u001b[32;49mpip install --upgrade pip\u001b[0m\n"
     ]
    }
   ],
   "source": [
    "!pip install -q ISLP statsmodels scikit-learn pandas numpy matplotlib\n",
    "\n",
    "import numpy as np\n",
    "import pandas as pd\n",
    "import matplotlib.pyplot as plt\n",
    "\n",
    "import statsmodels.api as sm\n",
    "from statsmodels.discrete.discrete_model import Logit\n",
    "\n",
    "from sklearn.model_selection import train_test_split\n",
    "from sklearn.preprocessing import StandardScaler\n",
    "from sklearn.linear_model import LogisticRegression\n",
    "from sklearn.metrics import accuracy_score, roc_auc_score, roc_curve\n",
    "\n",
    "pd.set_option(\"display.width\", 140)\n",
    "pd.set_option(\"display.max_columns\", 120)"
   ]
  },
  {
   "cell_type": "markdown",
   "id": "j2L2aW6RwYQ0",
   "metadata": {
    "id": "j2L2aW6RwYQ0"
   },
   "source": [
    "## 0) Load & sanity-check the Brain Cancer data\n",
    "\n",
    "**Checking the dataset:**\n",
    "1. Load the dataset (try `from ISLP import load_data; load_data('BrainCancer')`, else fallback to `BrainCancer.csv`).  \n",
    "2. Clean column names (optional).  \n",
    "3. Show `df.shape` and the first few rows."
   ]
  },
  {
   "cell_type": "code",
   "execution_count": 2,
   "id": "NoJ2HFEFwYQ1",
   "metadata": {
    "colab": {
     "base_uri": "https://localhost:8080/",
     "height": 224
    },
    "executionInfo": {
     "elapsed": 42,
     "status": "ok",
     "timestamp": 1760334559731,
     "user": {
      "displayName": "Lucy Lai",
      "userId": "13106468595873100443"
     },
     "user_tz": 420
    },
    "id": "NoJ2HFEFwYQ1",
    "outputId": "76378ad9-2770-48da-d65e-d999ec92ebab"
   },
   "outputs": [
    {
     "name": "stdout",
     "output_type": "stream",
     "text": [
      "(88, 8)\n"
     ]
    },
    {
     "data": {
      "text/html": [
       "<div>\n",
       "<style scoped>\n",
       "    .dataframe tbody tr th:only-of-type {\n",
       "        vertical-align: middle;\n",
       "    }\n",
       "\n",
       "    .dataframe tbody tr th {\n",
       "        vertical-align: top;\n",
       "    }\n",
       "\n",
       "    .dataframe thead th {\n",
       "        text-align: right;\n",
       "    }\n",
       "</style>\n",
       "<table border=\"1\" class=\"dataframe\">\n",
       "  <thead>\n",
       "    <tr style=\"text-align: right;\">\n",
       "      <th></th>\n",
       "      <th>sex</th>\n",
       "      <th>diagnosis</th>\n",
       "      <th>loc</th>\n",
       "      <th>ki</th>\n",
       "      <th>gtv</th>\n",
       "      <th>stereo</th>\n",
       "      <th>status</th>\n",
       "      <th>time</th>\n",
       "    </tr>\n",
       "  </thead>\n",
       "  <tbody>\n",
       "    <tr>\n",
       "      <th>0</th>\n",
       "      <td>Female</td>\n",
       "      <td>Meningioma</td>\n",
       "      <td>Infratentorial</td>\n",
       "      <td>90</td>\n",
       "      <td>6.11</td>\n",
       "      <td>SRS</td>\n",
       "      <td>0</td>\n",
       "      <td>57.64</td>\n",
       "    </tr>\n",
       "    <tr>\n",
       "      <th>1</th>\n",
       "      <td>Male</td>\n",
       "      <td>HG glioma</td>\n",
       "      <td>Supratentorial</td>\n",
       "      <td>90</td>\n",
       "      <td>19.35</td>\n",
       "      <td>SRT</td>\n",
       "      <td>1</td>\n",
       "      <td>8.98</td>\n",
       "    </tr>\n",
       "    <tr>\n",
       "      <th>2</th>\n",
       "      <td>Female</td>\n",
       "      <td>Meningioma</td>\n",
       "      <td>Infratentorial</td>\n",
       "      <td>70</td>\n",
       "      <td>7.95</td>\n",
       "      <td>SRS</td>\n",
       "      <td>0</td>\n",
       "      <td>26.46</td>\n",
       "    </tr>\n",
       "    <tr>\n",
       "      <th>3</th>\n",
       "      <td>Female</td>\n",
       "      <td>LG glioma</td>\n",
       "      <td>Supratentorial</td>\n",
       "      <td>80</td>\n",
       "      <td>7.61</td>\n",
       "      <td>SRT</td>\n",
       "      <td>1</td>\n",
       "      <td>47.80</td>\n",
       "    </tr>\n",
       "    <tr>\n",
       "      <th>4</th>\n",
       "      <td>Male</td>\n",
       "      <td>HG glioma</td>\n",
       "      <td>Supratentorial</td>\n",
       "      <td>90</td>\n",
       "      <td>5.06</td>\n",
       "      <td>SRT</td>\n",
       "      <td>1</td>\n",
       "      <td>6.30</td>\n",
       "    </tr>\n",
       "  </tbody>\n",
       "</table>\n",
       "</div>"
      ],
      "text/plain": [
       "      sex   diagnosis             loc  ki    gtv stereo  status   time\n",
       "0  Female  Meningioma  Infratentorial  90   6.11    SRS       0  57.64\n",
       "1    Male   HG glioma  Supratentorial  90  19.35    SRT       1   8.98\n",
       "2  Female  Meningioma  Infratentorial  70   7.95    SRS       0  26.46\n",
       "3  Female   LG glioma  Supratentorial  80   7.61    SRT       1  47.80\n",
       "4    Male   HG glioma  Supratentorial  90   5.06    SRT       1   6.30"
      ]
     },
     "execution_count": 2,
     "metadata": {},
     "output_type": "execute_result"
    }
   ],
   "source": [
    "try:\n",
    "    from ISLP import load_data\n",
    "    df = load_data('BrainCancer')\n",
    "except Exception:\n",
    "    df = pd.read_csv('BrainCancer.csv')\n",
    "\n",
    "df.columns = df.columns.str.replace(r'[^0-9a-zA-Z]+', '_', regex=True)\n",
    "print(df.shape)\n",
    "df.head()"
   ]
  },
  {
   "cell_type": "markdown",
   "id": "TzQMSunMwYQ1",
   "metadata": {
    "id": "TzQMSunMwYQ1"
   },
   "source": [
    "## 1) Quick EDA\n",
    "1. Count the number of `status=0` and `status=1` (use `value_counts()` and `value_counts(normalize=True)`).  \n",
    "2. (Optional) Show simple summaries for `ki` and `gtv` (use `df[['ki','gtv']].describe()` if present)."
   ]
  },
  {
   "cell_type": "code",
   "execution_count": 4,
   "id": "CBnpfPi3wYQ1",
   "metadata": {
    "colab": {
     "base_uri": "https://localhost:8080/",
     "height": 906
    },
    "executionInfo": {
     "elapsed": 38,
     "status": "ok",
     "timestamp": 1760334559770,
     "user": {
      "displayName": "Lucy Lai",
      "userId": "13106468595873100443"
     },
     "user_tz": 420
    },
    "id": "CBnpfPi3wYQ1",
    "outputId": "826b529c-8725-4783-e268-6121ea5c60bb"
   },
   "outputs": [
    {
     "data": {
      "text/plain": [
       "status\n",
       "0    53\n",
       "1    35\n",
       "Name: count, dtype: int64"
      ]
     },
     "metadata": {},
     "output_type": "display_data"
    },
    {
     "data": {
      "text/plain": [
       "status\n",
       "0    0.602273\n",
       "1    0.397727\n",
       "Name: proportion, dtype: float64"
      ]
     },
     "metadata": {},
     "output_type": "display_data"
    },
    {
     "data": {
      "text/html": [
       "<div>\n",
       "<style scoped>\n",
       "    .dataframe tbody tr th:only-of-type {\n",
       "        vertical-align: middle;\n",
       "    }\n",
       "\n",
       "    .dataframe tbody tr th {\n",
       "        vertical-align: top;\n",
       "    }\n",
       "\n",
       "    .dataframe thead th {\n",
       "        text-align: right;\n",
       "    }\n",
       "</style>\n",
       "<table border=\"1\" class=\"dataframe\">\n",
       "  <thead>\n",
       "    <tr style=\"text-align: right;\">\n",
       "      <th></th>\n",
       "      <th>ki</th>\n",
       "    </tr>\n",
       "  </thead>\n",
       "  <tbody>\n",
       "    <tr>\n",
       "      <th>count</th>\n",
       "      <td>88.000000</td>\n",
       "    </tr>\n",
       "    <tr>\n",
       "      <th>mean</th>\n",
       "      <td>81.022727</td>\n",
       "    </tr>\n",
       "    <tr>\n",
       "      <th>std</th>\n",
       "      <td>10.508866</td>\n",
       "    </tr>\n",
       "    <tr>\n",
       "      <th>min</th>\n",
       "      <td>40.000000</td>\n",
       "    </tr>\n",
       "    <tr>\n",
       "      <th>25%</th>\n",
       "      <td>80.000000</td>\n",
       "    </tr>\n",
       "    <tr>\n",
       "      <th>50%</th>\n",
       "      <td>80.000000</td>\n",
       "    </tr>\n",
       "    <tr>\n",
       "      <th>75%</th>\n",
       "      <td>90.000000</td>\n",
       "    </tr>\n",
       "    <tr>\n",
       "      <th>max</th>\n",
       "      <td>100.000000</td>\n",
       "    </tr>\n",
       "  </tbody>\n",
       "</table>\n",
       "</div>"
      ],
      "text/plain": [
       "               ki\n",
       "count   88.000000\n",
       "mean    81.022727\n",
       "std     10.508866\n",
       "min     40.000000\n",
       "25%     80.000000\n",
       "50%     80.000000\n",
       "75%     90.000000\n",
       "max    100.000000"
      ]
     },
     "metadata": {},
     "output_type": "display_data"
    },
    {
     "data": {
      "text/html": [
       "<div>\n",
       "<style scoped>\n",
       "    .dataframe tbody tr th:only-of-type {\n",
       "        vertical-align: middle;\n",
       "    }\n",
       "\n",
       "    .dataframe tbody tr th {\n",
       "        vertical-align: top;\n",
       "    }\n",
       "\n",
       "    .dataframe thead th {\n",
       "        text-align: right;\n",
       "    }\n",
       "</style>\n",
       "<table border=\"1\" class=\"dataframe\">\n",
       "  <thead>\n",
       "    <tr style=\"text-align: right;\">\n",
       "      <th></th>\n",
       "      <th>gtv</th>\n",
       "    </tr>\n",
       "  </thead>\n",
       "  <tbody>\n",
       "    <tr>\n",
       "      <th>count</th>\n",
       "      <td>88.000000</td>\n",
       "    </tr>\n",
       "    <tr>\n",
       "      <th>mean</th>\n",
       "      <td>8.660795</td>\n",
       "    </tr>\n",
       "    <tr>\n",
       "      <th>std</th>\n",
       "      <td>8.657576</td>\n",
       "    </tr>\n",
       "    <tr>\n",
       "      <th>min</th>\n",
       "      <td>0.010000</td>\n",
       "    </tr>\n",
       "    <tr>\n",
       "      <th>25%</th>\n",
       "      <td>2.500000</td>\n",
       "    </tr>\n",
       "    <tr>\n",
       "      <th>50%</th>\n",
       "      <td>6.510000</td>\n",
       "    </tr>\n",
       "    <tr>\n",
       "      <th>75%</th>\n",
       "      <td>12.100000</td>\n",
       "    </tr>\n",
       "    <tr>\n",
       "      <th>max</th>\n",
       "      <td>34.640000</td>\n",
       "    </tr>\n",
       "  </tbody>\n",
       "</table>\n",
       "</div>"
      ],
      "text/plain": [
       "             gtv\n",
       "count  88.000000\n",
       "mean    8.660795\n",
       "std     8.657576\n",
       "min     0.010000\n",
       "25%     2.500000\n",
       "50%     6.510000\n",
       "75%    12.100000\n",
       "max    34.640000"
      ]
     },
     "metadata": {},
     "output_type": "display_data"
    }
   ],
   "source": [
    "display(df['status'].value_counts(dropna=False))\n",
    "display(df['status'].value_counts(normalize=True))\n",
    "\n",
    "for col in ['ki','gtv']:\n",
    "    if col in df.columns:\n",
    "        display(df[[col]].describe())"
   ]
  },
  {
   "cell_type": "markdown",
   "id": "d1Fon5RawYQ2",
   "metadata": {
    "id": "d1Fon5RawYQ2"
   },
   "source": [
    "## 2) Prepare data for fitting\n",
    "**We define:**\n",
    "- **Outcome:** `status` (0 = alive, 1 = deceased).\n",
    "- **Predictors:** `sex`, `diagnosis`, `loc`, `ki`, `gtv`.\n",
    "\n",
    "Cleaning up the training data (ensure no NaNs):\n",
    "1. Use `df.dropna` to drop any row that has a missing value in 'status'\n",
    "2. `subset=['status'] + predictors` combines the outcome with the predictors so all required columns must be non-missing.\n",
    "3. `.copy()` makes a new data frame"
   ]
  },
  {
   "cell_type": "code",
   "execution_count": 5,
   "id": "3A5cPcHe1JNG",
   "metadata": {
    "executionInfo": {
     "elapsed": 30,
     "status": "ok",
     "timestamp": 1760334559808,
     "user": {
      "displayName": "Lucy Lai",
      "userId": "13106468595873100443"
     },
     "user_tz": 420
    },
    "id": "3A5cPcHe1JNG"
   },
   "outputs": [],
   "source": [
    "predictors = ['sex','diagnosis','loc','ki','gtv'] # our predictors\n",
    "data = df.dropna(subset=['status'] + predictors).copy()"
   ]
  },
  {
   "cell_type": "markdown",
   "id": "8Lii0wLh1VRz",
   "metadata": {
    "id": "8Lii0wLh1VRz"
   },
   "source": [
    "**Steps to implement (with function hints):**\n",
    "- Use `train_test_split(..., stratify=...)` with stratification on `status`. Split the data into 70% train and 30% test and use `stratify=data['status']` to ensure there's same proportion of `status = 0s/1s` in both splits as in the full data."
   ]
  },
  {
   "cell_type": "code",
   "execution_count": 9,
   "id": "eAyzaCQjwYQ2",
   "metadata": {
    "colab": {
     "base_uri": "https://localhost:8080/",
     "height": 106
    },
    "executionInfo": {
     "elapsed": 36,
     "status": "error",
     "timestamp": 1760334559845,
     "user": {
      "displayName": "Lucy Lai",
      "userId": "13106468595873100443"
     },
     "user_tz": 420
    },
    "id": "eAyzaCQjwYQ2",
    "outputId": "f3d16788-611a-4d23-acaa-3e2a98ca077a"
   },
   "outputs": [
    {
     "name": "stdout",
     "output_type": "stream",
     "text": [
      "Baseline (reference) category for diagnosis: HG glioma\n",
      "Baseline (reference) category for sex: Female\n",
      "Baseline (reference) category for location: Infratentorial\n"
     ]
    },
    {
     "data": {
      "text/plain": [
       "((60, 7), (27, 7), {0: 36, 1: 24})"
      ]
     },
     "execution_count": 9,
     "metadata": {},
     "output_type": "execute_result"
    }
   ],
   "source": [
    "train_df, test_df = train_test_split(data, test_size = 0.3, stratify = data['status'])\n",
    "\n",
    "y_train = train_df['status'].astype(int)\n",
    "y_test  = test_df['status'].astype(int)\n",
    "\n",
    "num_cols = ['ki','gtv'] # assign numerical (quantitative) predictors\n",
    "cat_cols = ['sex','diagnosis','loc'] # assign categorical (qualitative) predictors\n",
    "\n",
    "# code the dummy variables for the categorical variables in train and test\n",
    "X_train_cat = pd.get_dummies(train_df[cat_cols], drop_first=True)\n",
    "X_test_cat  = pd.get_dummies(test_df[cat_cols],  drop_first=True)\n",
    "X_test_cat = X_test_cat.reindex(columns=X_train_cat.columns, fill_value=0) # aligning columns for test data\n",
    "\n",
    "# check what the baseline variable in your dummy coding: will be useful later for interpretation\n",
    "print(\"Baseline (reference) category for diagnosis:\", sorted(train_df['diagnosis'].unique())[0]) # baseline variable for diagnosis\n",
    "print(\"Baseline (reference) category for sex:\", sorted(train_df['sex'].unique())[0]) # baseline variable for sex\n",
    "print(\"Baseline (reference) category for location:\", sorted(train_df['loc'].unique())[0]) # baseline variable for location\n",
    "\n",
    "# standardize numeric features in train and test\n",
    "scaler = StandardScaler().fit(train_df[num_cols])\n",
    "X_train_num = pd.DataFrame(scaler.transform(train_df[num_cols]), columns=num_cols, index=train_df.index)\n",
    "X_test_num  = pd.DataFrame(scaler.transform(test_df[num_cols]),  columns=num_cols, index=test_df.index)\n",
    "\n",
    "# put numerical and categorical features back together\n",
    "X_train = pd.concat([X_train_num, X_train_cat], axis=1)\n",
    "X_test  = pd.concat([X_test_num,  X_test_cat],  axis=1)\n",
    "\n",
    "X_train = X_train.astype(float) # convert categorical booleans to ints because statsmodels can't take booleans\n",
    "\n",
    "X_train.shape, X_test.shape, y_train.value_counts().to_dict()"
   ]
  },
  {
   "cell_type": "markdown",
   "id": "n9DkWNOjwYQ3",
   "metadata": {
    "id": "n9DkWNOjwYQ3"
   },
   "source": [
    "## 3) Fit logistic regression with **`statsmodels.Logit`**\n",
    "\n",
    "**TO-DO:**\n",
    "1. Add intercept to `X_train` using `sm.add_constant(..., has_constant='add')`.  \n",
    "2. Fit: `Logit(y_train, X).fit(...)`.  \n",
    "3. Print the summary.  \n",
    "4. Compute **odds ratios** by exponentiating the coefficients\n",
    "\n",
    "**Function hints:** `sm.add_constant`, `Logit(y, X).fit()`, `.summary()`, `np.exp(params)` (odds ratios)."
   ]
  },
  {
   "cell_type": "code",
   "execution_count": 11,
   "id": "O1rAiOrOwYQ3",
   "metadata": {
    "executionInfo": {
     "elapsed": 4,
     "status": "aborted",
     "timestamp": 1760334559913,
     "user": {
      "displayName": "Lucy Lai",
      "userId": "13106468595873100443"
     },
     "user_tz": 420
    },
    "id": "O1rAiOrOwYQ3"
   },
   "outputs": [
    {
     "name": "stdout",
     "output_type": "stream",
     "text": [
      "Optimization terminated successfully.\n",
      "         Current function value: 0.494835\n",
      "         Iterations 6\n",
      "                           Logit Regression Results                           \n",
      "==============================================================================\n",
      "Dep. Variable:                 status   No. Observations:                   60\n",
      "Model:                          Logit   Df Residuals:                       52\n",
      "Method:                           MLE   Df Model:                            7\n",
      "Date:                Thu, 16 Oct 2025   Pseudo R-squ.:                  0.2647\n",
      "Time:                        22:02:28   Log-Likelihood:                -29.690\n",
      "converged:                       True   LL-Null:                       -40.381\n",
      "Covariance Type:            nonrobust   LLR p-value:                  0.003245\n",
      "========================================================================================\n",
      "                           coef    std err          z      P>|z|      [0.025      0.975]\n",
      "----------------------------------------------------------------------------------------\n",
      "const                    0.2125      1.368      0.155      0.877      -2.468       2.893\n",
      "ki                      -0.1734      0.354     -0.489      0.625      -0.868       0.521\n",
      "gtv                      0.1492      0.352      0.423      0.672      -0.542       0.840\n",
      "sex_Male                 0.2791      0.728      0.383      0.701      -1.148       1.706\n",
      "diagnosis_LG glioma     -2.0829      1.094     -1.905      0.057      -4.226       0.061\n",
      "diagnosis_Meningioma    -2.7979      0.863     -3.244      0.001      -4.488      -1.107\n",
      "diagnosis_Other         -2.1204      1.053     -2.014      0.044      -4.184      -0.057\n",
      "loc_Supratentorial       1.1991      1.050      1.142      0.254      -0.859       3.257\n",
      "========================================================================================\n",
      "const                   1.236827\n",
      "ki                      0.840810\n",
      "gtv                     1.160885\n",
      "sex_Male                1.321879\n",
      "diagnosis_LG glioma     0.124572\n",
      "diagnosis_Meningioma    0.060939\n",
      "diagnosis_Other         0.119987\n",
      "loc_Supratentorial      3.317126\n",
      "dtype: float64\n"
     ]
    }
   ],
   "source": [
    "X = sm.add_constant(X_train, has_constant='add')\n",
    "logit_mod = Logit(y_train, X).fit()\n",
    "\n",
    "print(logit_mod.summary()) # print summary\n",
    "print(np.exp(logit_mod.params)) # print the exponentiated coefficients"
   ]
  },
  {
   "cell_type": "markdown",
   "id": "Ak8moYJ4wYQ3",
   "metadata": {
    "id": "Ak8moYJ4wYQ3"
   },
   "source": [
    "## 4) Predict & **assess with Accuracy and ROC/AUC** (test) using **`sklearn`**\n",
    "**Function hints:**  \n",
    "- `LogisticRegression(max_iter=1000).fit(X_train, y_train)`  \n",
    "- `predict(X)` → class labels; `predict_proba(X)[:, 1]` → class-1 probabilities  \n",
    "- `accuracy_score(y_true, y_pred)`  \n",
    "- `roc_auc_score(y_true, y_score)` with **probabilities** for the positive class  \n",
    "- `roc_curve(y_true, y_score)` to get `fpr, tpr, thresholds`  \n",
    "- Use `matplotlib.pyplot` to **plot the ROC curve**\n",
    "\n",
    "**Steps:**\n",
    "1. Fit a `LogisticRegression` on `X_train, y_train`.  \n",
    "2. Predict **test** labels and **test** probabilities.  \n",
    "3. Compute **accuracy (train/test)** and **ROC AUC (test)**. Print them.  \n",
    "4. Plot the **ROC curve**."
   ]
  },
  {
   "cell_type": "code",
   "execution_count": null,
   "id": "ntchBtXnwYQ4",
   "metadata": {
    "executionInfo": {
     "elapsed": 6,
     "status": "aborted",
     "timestamp": 1760334559916,
     "user": {
      "displayName": "Lucy Lai",
      "userId": "13106468595873100443"
     },
     "user_tz": 420
    },
    "id": "ntchBtXnwYQ4"
   },
   "outputs": [],
   "source": [
    "sk_log = LogisticRegression(max_iter = 1000).fit(X_train, y_train)\n",
    "\n",
    "yhat_tr = sk_log.predict(X_train) # (predict using train X)\n",
    "yhat_te = sk.log.predict(X_test) # (predict using test X)\n",
    "proba_te = sk_log.predict_proba(X_test)[:, 1] # predict status = 1 probabilities\n",
    "\n",
    "baseline_rate = y_test.value_counts(normalize=True).max() # baseline rate for majority class accuracy\n",
    "acc_tr = accuracy_score(y_train, yhat_tr) # (train accuracy)\n",
    "acc_te = accuracy_score(y_test, y_score) # YOUR CODE HERE (test accuracy)\n",
    "auc_te = # YOUR CODE HERE (roc auc test score)\n",
    "\n",
    "print(\"Naive baseline (majority class accuracy):\", round(baseline_rate, 3))\n",
    "print(f\"Accuracy (train): {acc_tr:.3f}\")\n",
    "print(f\"Accuracy (test): {acc_te:.3f}\")\n",
    "print(f\"AUC (test):      {auc_te:.3f}\")\n",
    "\n",
    "fpr, tpr, thr = roc_curve(y_test, proba_te)\n",
    "plt.figure()\n",
    "plt.plot(fpr, tpr, label='ROC')\n",
    "plt.plot([0,1],[0,1], linestyle='--')\n",
    "plt.xlabel('False Positive Rate')\n",
    "plt.ylabel('True Positive Rate')\n",
    "plt.title('ROC curve (test)')\n",
    "plt.legend()\n",
    "plt.show()"
   ]
  }
 ],
 "metadata": {
  "colab": {
   "provenance": []
  },
  "kernelspec": {
   "display_name": "Python 3 (ipykernel)",
   "language": "python",
   "name": "python3"
  },
  "language_info": {
   "codemirror_mode": {
    "name": "ipython",
    "version": 3
   },
   "file_extension": ".py",
   "mimetype": "text/x-python",
   "name": "python",
   "nbconvert_exporter": "python",
   "pygments_lexer": "ipython3",
   "version": "3.12.7"
  }
 },
 "nbformat": 4,
 "nbformat_minor": 5
}
