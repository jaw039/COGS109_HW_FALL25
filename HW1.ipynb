{
 "cells": [
  {
   "cell_type": "markdown",
   "id": "99f386ee",
   "metadata": {},
   "source": [
    "# COGS 109: Homework 1 \n",
    "**Jackie Wang**\n"
   ]
  },
  {
   "cell_type": "markdown",
   "id": "5a946fc0",
   "metadata": {},
   "source": [
    "# PART A\n",
    "### Question 1a\n",
    "Recall the modeling framework for supervised learning (Eq. 2.1 in ISLP): \n",
    "a. Briefly define each element of the equation"
   ]
  },
  {
   "cell_type": "markdown",
   "id": "2a735470",
   "metadata": {},
   "source": [
    "**Answer:** \n",
    "- Y: the ouput variable (also the dependent variable). This is the outcome that you are trying to predict or explain. In this example is the Y value which represents sales\n",
    "- X: the input variables (also the independent variable or the features) These variables are what you are trying to use when making predictions. In the example, X₁ = TV budget, X₂ = radio budget, X₃ = newspaper budget\n",
    "- f(X): Is an unknown function that represents the relationship between X and Y. \n",
    "- ϵ (epsilon): this is the random error term. "
   ]
  },
  {
   "cell_type": "markdown",
   "id": "7466225d",
   "metadata": {},
   "source": [
    "### Question 1b\n",
    "What do n and p refer to in a dataset? (see ISLP Ch.1)\n",
    "\n",
    "**Answer:** \n",
    "- n: The number of observations (or samples/rows) in the dataset. \n",
    "- p: The number of predictors (or features/input variables)."
   ]
  },
  {
   "cell_type": "markdown",
   "id": "9cb7d6d8",
   "metadata": {},
   "source": [
    "### Question 1c\n",
    "Map each element of the equation onto the figures below (Fig. 2.1 in ISLP): What is Y? What is X? What is f()? What is ?\n",
    "\n",
    "**Answer:** \n",
    "- Y (Sales): The y-axis values.\n",
    "- X: The x-axis values. \n",
    "- f(X): The blue line.\n",
    "- ϵ (epsilon): The vertical distance between each red circle and the blue line. "
   ]
  },
  {
   "cell_type": "markdown",
   "id": "a136ef71",
   "metadata": {},
   "source": [
    "### Question 2\n",
    "Define reducible vs. irreducible error. Give one example of each and explain why perfect prediction is impossible even with infinite data.\n",
    "\n",
    "**Answer:**\n",
    "- Reducible error: Errors that can be reduced by using a better model.\n",
    "  Example: Using a linear model when the true relationship is quadratic; we could reduce this error by using a better / different model.\n",
    "- Irreducible error: Errors that cannot be changed.\n",
    "  Example: We're trying to predict a student's exam score based on hours studied. Even with all the data, we still couldn't predict the exact score because we don't know the exam materials or whether the student feels anxious, etc."
   ]
  },
  {
   "cell_type": "markdown",
   "id": "2b3b536c",
   "metadata": {},
   "source": [
    "### Question 3a\n",
    "We collect a set of data on the top 500 firms in the US. For each firm we record profit, number of employees, industry and the CEO salary. We are interested in understanding which factors affect CEO salary.\n",
    "\n",
    "**Answer:** \n",
    "- Regression (CEO salary is quantitative)\n",
    "- Inference (understanding which factors affect salary)\n",
    "- n = 500, p = 3"
   ]
  },
  {
   "cell_type": "markdown",
   "id": "8da166d3",
   "metadata": {},
   "source": [
    "### Question 3b\n",
    "We are considering launching a new product and wish to know whether it will be a success or a failure. We collect data on 20 similar products that were previously launched. For each product we have recorded whether it was a success or failure, price charged for the product, marketing budget, competition price, and ten other variables.\n",
    "\n",
    "**Answer:** \n",
    "- Classification (success or failure - categorical outcome)\n",
    "- Prediction (predicting future product outcome)\n",
    "- n = 20, p = 13"
   ]
  },
  {
   "cell_type": "markdown",
   "id": "941d7c65",
   "metadata": {},
   "source": [
    "### Question 3c\n",
    "We are interested in predicting the % change in the USD/Euro exchange rate in relation to the weekly changes in the world stock markets. Hence we collect weekly data for all of 2012. For each week we record the % change in the USD/Euro, the % change in the US market, the % change in the British market, and the % change in the German market.\n",
    "\n",
    "**Answer:** \n",
    "- Regression (% change is quantitative)\n",
    "- Prediction (predicting future exchange rates)\n",
    "- n = 52, p = 3"
   ]
  },
  {
   "cell_type": "markdown",
   "id": "d8ad7f5e",
   "metadata": {},
   "source": [
    "### Question 4\n",
    "What are the advantages and disadvantages of a parametric approach? When would you want to use a non-parametric model over a parametric one?\n",
    "\n",
    "**Answer:**\n",
    " Parametric Advantages:\n",
    "- Simplier, easier to interpret\n",
    "- Requires fewer observations\n",
    "\n",
    "Parametric Disadvantages:\n",
    "- Assumes specific form for f(X)\n",
    "- Poor performance if assumptions wrong\n",
    "- Less flexible\n",
    "\n",
    "When to use non-parametric:\n",
    "\n",
    "- When you don't know the true form of f(X)\n",
    "- When the relationship is complex/non-linear\n",
    "- When you have lots of data"
   ]
  },
  {
   "cell_type": "markdown",
   "id": "ef3dfd8d",
   "metadata": {},
   "source": [
    "### Question 5a\n",
    "You aggregate a massive online cognitive dataset: n is extremely large, with tens of thousands of participants completing a brief task on their phones. Predictors include Age, Sex, and Hours of Sleep (i.e., p is small).\n",
    "\n",
    "**Answer:** \n",
    "- Large n, small p:\n",
    "- Inflexible - With few predictors and lots of data, a simple model works well and avoids overfitting\n"
   ]
  },
  {
   "cell_type": "markdown",
   "id": "b9dc3b68",
   "metadata": {},
   "source": [
    "### Question 5b\n",
    "You train a decoder to predict whether a person is awake or asleep from whole-brain fMRI voxels. You have scans from a small n (e.g., 25 participants), but each scan provides a large p (tens of thousands of voxel features).  \n",
    "\n",
    "**Answer:** \n",
    "- Small n, Large p:\n",
    "- Flexible - Need flexibility to handle high-dimensional data, though watch for overfitting with small n\n"
   ]
  },
  {
   "cell_type": "markdown",
   "id": "d920d623",
   "metadata": {},
   "source": [
    "### Question 5c\n",
    "You model response time (RT) as a function of working-memory load, circadian phase, and trial history in an attention task. You hypothesize that there is a strong non-linear interaction between predictors and RT. \n",
    "\n",
    "**Answer:** \n",
    "- Non-linear interaction:\n",
    "- Flexible - We Need flexibility to capture complex non-linear relationships\n"
   ]
  },
  {
   "cell_type": "markdown",
   "id": "c57b3df7",
   "metadata": {},
   "source": [
    "### Question 5d\n",
    "You want to classify whether someone is paying attention to the lecture or not from their pupil diameter and blink rate in a noisy classroom setting using eye-trackers. But your measurement conditions are inconsistent and the error variance is extremely high.\n",
    "\n",
    "**Answer:** \n",
    "- High error variance:\n",
    "- Inflexible - Flexible models would overfit to noise; inflexible models are more stable\n"
   ]
  },
  {
   "cell_type": "markdown",
   "id": "71b50f0c",
   "metadata": {},
   "source": [
    "### Question 6\n",
    "Why are inference questions often better suited for inflexible (e.g., linear) models? (Not always, but often the case).\n",
    "\n",
    "**Answer:** \n",
    "- Inflexible models are easier to read as you can clearly see how each predictor are affecting the responses. \n",
    "- Flexible models predicts well but don't really explain how or why predictors relates to the outcome making them less suitable for interence.\n"
   ]
  },
  {
   "cell_type": "markdown",
   "id": "e47ae747",
   "metadata": {},
   "source": [
    "### Question 7\n",
    "**Answer:** \n",
    "a. Given features (word use, sentence length, em dash usage, etc.) and labels, train a classifier to \n",
    "\n",
    "- a. Essay classifier: Supervised (have labels: ChatGPT or not)\n",
    "\n",
    "Grouping people by their results on a questionnaire to identify personality subtypes.\n",
    "\n",
    "- b. Personality subtypes: Unsupervised (no labels, finding groups)\n",
    "\n",
    "Predict the price of a house given different features (zip code, square feet, number of rooms, etc.)\n",
    "- c. House price prediction: Supervised (have labels: actual prices)"
   ]
  },
  {
   "cell_type": "markdown",
   "id": "81631944",
   "metadata": {},
   "source": [
    "### Question 8\n",
    "Describe the difference between training error and test error. Why is it important to evaluate your model on a separate test set?\n",
    "\n",
    "**Answer:** \n",
    "- Training error: Error rate on the data used to fit the model\n",
    "- Test error: Error rate on new, unseen data\n",
    "- Why test on separate data: The model may overfit to the training data. Test error gives us an honest assessment of how well the model are generalizes to new observations."
   ]
  },
  {
   "cell_type": "markdown",
   "id": "e1d991c4",
   "metadata": {},
   "source": [
    "### Question 9\n",
    "What does “overfitting” mean, and how can you tell that it is happening?\n",
    "\n",
    "**Answer:** \n",
    "- Overfitting: Model fits the training data too well, capturing noise rather than just the true pattern.\n",
    "\n",
    "We can tell is happening by\n",
    "- Training error is very low\n",
    "- Test error is much higher than traininig error\n",
    "- Large gap between training and test performance"
   ]
  },
  {
   "cell_type": "markdown",
   "id": "6e8228e3",
   "metadata": {},
   "source": [
    "### Question 10\n",
    "Recall the expected test mean squared error (MSE) at a point x0 (Eq. 2.7 in ISLP):\n",
    "\n",
    "**Answer:** \n",
    "- Var(f(x)): Variance - how much f would change if we used a different training set\n",
    "- Bias(f(x)): squared bias - errors from approximating the true f with a simple model\n",
    "- Var(error): Irreducible error - cannot be reduced / changed regardles of models\n",
    "\n",
    "- Bias-variance tradeoff: If the model flexibility increases, variance increases but the bias decreases. The goal is to find the balance that minimizes the total MSE.\n"
   ]
  },
  {
   "cell_type": "markdown",
   "id": "ea8965b2",
   "metadata": {},
   "source": [
    "### Question 11\n",
    "At a representative point x0, three algorithms trained on the same dataset yield the following (pointwise) bias-variance-noise components:\n",
    "\n",
    "**Answer:** \n",
    "b. Compute MSE:\n",
    "\n",
    "- Model i: MSE = 0.2 + 2.0 + 0.5 = 2.7\n",
    "- Model ii: MSE = 1.8 + 0.2 + 0.5 = 2.5\n",
    "- Model iii: MSE = 0.7 + 0.7 + 0.5 = 1.9\n",
    "\n",
    "c. Best generalization: Model iii (lowest MSE = 1.9)\n",
    "\n",
    "d. Over/underfitting:\n",
    "\n",
    "- Model i is overfitting: High variance (2.0), low bias (0.2) - too flexible\n",
    "- Model ii is underfitting: Low variance (0.2), high bias (1.8) - too inflexible\n",
    "- Model iii is balanced \n",
    "\n",
    "e. If Var(ε) increased: All MSE values would increase by the same amount. The relative ranking wouldn't change, but all the models would perform worse. We cannot reduce this error through better modeling.\n"
   ]
  },
  {
   "cell_type": "markdown",
   "id": "23e941ff",
   "metadata": {},
   "source": [
    "### Question 12\n",
    "You try models of increasing flexibility and obtain a plot of test MSE (red), bias (blue), and variance (orange) as a function of model flexibility. Briefly explain why test MSE decreases at first and then increases again as flexibility grows.\n",
    "\n",
    "**Answer:** \n",
    "Why test MSE decreases then increases: \n",
    "- Low flexibility (left side): We have High bias  (high test MSE)\n",
    "- Increasing flexibility (going right): Bias decreases faster than variance increases (test MSE decreases)\n",
    "- Optimal point (minimum): Best bias-variance tradeoff\n",
    "- High flexibility (right side): Variance increases faster than bias decreases(overfitting)\n",
    "\n"
   ]
  },
  {
   "cell_type": "markdown",
   "id": "70802418",
   "metadata": {},
   "source": [
    "## PART B Coding Exercise"
   ]
  },
  {
   "cell_type": "code",
   "execution_count": 3,
   "id": "fb475811",
   "metadata": {},
   "outputs": [
    {
     "data": {
      "text/plain": [
       "Index(['Private', 'Apps', 'Accept', 'Enroll', 'Top10perc', 'Top25perc',\n",
       "       'F.Undergrad', 'P.Undergrad', 'Outstate', 'Room.Board', 'Books',\n",
       "       'Personal', 'PhD', 'Terminal', 'S.F.Ratio', 'perc.alumni', 'Expend',\n",
       "       'Grad.Rate'],\n",
       "      dtype='object')"
      ]
     },
     "execution_count": 3,
     "metadata": {},
     "output_type": "execute_result"
    }
   ],
   "source": [
    "from ISLP import load_data\n",
    "College = load_data('College')\n",
    "College.columns"
   ]
  },
  {
   "cell_type": "markdown",
   "id": "7b296c72",
   "metadata": {},
   "source": [
    "### Question 1\n",
    "Using any coding language, load the dataset and assign it to a variable college. How many rows and columns does it contain? What do the rows and columns represent?\n"
   ]
  },
  {
   "cell_type": "code",
   "execution_count": 2,
   "id": "e71e7cf9",
   "metadata": {},
   "outputs": [
    {
     "data": {
      "text/plain": [
       "(777, 18)"
      ]
     },
     "execution_count": 2,
     "metadata": {},
     "output_type": "execute_result"
    }
   ],
   "source": [
    "College.shape"
   ]
  },
  {
   "cell_type": "markdown",
   "id": "f8e74d57",
   "metadata": {},
   "source": [
    "Theres 777 rows and 18 columns the rows and columns represent how big the data set are and how many variables do they have and how many information they store. "
   ]
  },
  {
   "cell_type": "markdown",
   "id": "e543d0d6",
   "metadata": {},
   "source": [
    "### Question 2\n",
    "You are conducting research with a professor who is interested in factors that predict graduation rates. Make scatterplots of at least 5 potential predictors with Grad.Rate. \n"
   ]
  },
  {
   "cell_type": "code",
   "execution_count": null,
   "id": "87c5d258",
   "metadata": {},
   "outputs": [
    {
     "data": {
      "text/plain": [
       "<matplotlib.collections.PathCollection at 0x134be7c70>"
      ]
     },
     "execution_count": 9,
     "metadata": {},
     "output_type": "execute_result"
    },
    {
     "data": {
      "image/png": "[encoded data removed]",
      "text/plain": [
       "<Figure size 640x480 with 1 Axes>"
      ]
     },
     "metadata": {},
     "output_type": "display_data"
    }
   ],
   "source": [
    "import matplotlib.pyplot as plt\n",
    "import numpy as np\n",
    "\n",
    "plt.scatter('S.F.Ratio','Grad.Rate')"
   ]
  },
  {
   "cell_type": "code",
   "execution_count": null,
   "id": "79038633",
   "metadata": {},
   "outputs": [],
   "source": []
  },
  {
   "cell_type": "markdown",
   "id": "b1aaeee0",
   "metadata": {},
   "source": [
    "### Question 1"
   ]
  },
  {
   "cell_type": "markdown",
   "id": "aef6d30b",
   "metadata": {},
   "source": [
    "### Question 1"
   ]
  },
  {
   "cell_type": "markdown",
   "id": "6167fdc9",
   "metadata": {},
   "source": [
    "### Question 1"
   ]
  },
  {
   "cell_type": "markdown",
   "id": "fb10bd2b",
   "metadata": {},
   "source": [
    "### Question 1"
   ]
  },
  {
   "cell_type": "markdown",
   "id": "e80e6480",
   "metadata": {},
   "source": [
    "### Question 1"
   ]
  },
  {
   "cell_type": "markdown",
   "id": "f3184198",
   "metadata": {},
   "source": [
    "### Question 1"
   ]
  },
  {
   "cell_type": "markdown",
   "id": "7c7a6291",
   "metadata": {},
   "source": [
    "### Question 1"
   ]
  },
  {
   "cell_type": "markdown",
   "id": "47165e8d",
   "metadata": {},
   "source": [
    "### Question 1"
   ]
  },
  {
   "cell_type": "markdown",
   "id": "37ee713b",
   "metadata": {},
   "source": []
  }
 ],
 "metadata": {
  "kernelspec": {
   "display_name": "islp",
   "language": "python",
   "name": "python3"
  },
  "language_info": {
   "codemirror_mode": {
    "name": "ipython",
    "version": 3
   },
   "file_extension": ".py",
   "mimetype": "text/x-python",
   "name": "python",
   "nbconvert_exporter": "python",
   "pygments_lexer": "ipython3",
   "version": "3.10.18"
  }
 },
 "nbformat": 4,
 "nbformat_minor": 5
}
