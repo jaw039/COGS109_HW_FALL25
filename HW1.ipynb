{
 "cells": [
  {
   "cell_type": "markdown",
   "id": "99f386ee",
   "metadata": {},
   "source": [
    "# COGS 109: Homework 1 \n",
    "**Jackie Wang**\n"
   ]
  },
  {
   "cell_type": "markdown",
   "id": "5a946fc0",
   "metadata": {},
   "source": [
    "### Question 1a\n"
   ]
  },
  {
   "cell_type": "markdown",
   "id": "2a735470",
   "metadata": {},
   "source": [
    "**Answer:** \n",
    "- Y: the ouput variable (also the dependent variable). This is the outcome you are trying to predict or explain. IN this example, Y represents sales\n",
    "- X: the input variables (also the independent variable or the features) These are what you are trying to use when making predictions. In the example, X₁ = TV budget, X₂ = radio budget, X₃ = newspaper budget\n",
    "- f(X): Is an unknown function that represents the relationship between X and Y. \n",
    "- ϵ (epsilon): this is the random error term. "
   ]
  },
  {
   "cell_type": "markdown",
   "id": "7466225d",
   "metadata": {},
   "source": [
    "### Question 1b\n",
    "**Answer:** \n",
    "- n: The number of observations (or samples/rows) in the dataset. \n",
    "- p: The number of predictors (or features/input variables)."
   ]
  },
  {
   "cell_type": "markdown",
   "id": "9cb7d6d8",
   "metadata": {},
   "source": [
    "### Question 1c\n",
    "**Answer:** \n",
    "- Y (Sales): The y-axis values.\n",
    "- X: The x-axis values. \n",
    "- f(X): The blue line.\n",
    "- ϵ (epsilon): The vertical distance between each red circle and the blue line. T"
   ]
  },
  {
   "cell_type": "code",
   "execution_count": null,
   "id": "4cb84c70",
   "metadata": {
    "vscode": {
     "languageId": "plaintext"
    }
   },
   "outputs": [],
   "source": []
  },
  {
   "cell_type": "code",
   "execution_count": null,
   "id": "a5c02f87",
   "metadata": {
    "vscode": {
     "languageId": "plaintext"
    }
   },
   "outputs": [],
   "source": []
  },
  {
   "cell_type": "markdown",
   "id": "d8ad7f5e",
   "metadata": {},
   "source": [
    "### Question 1c\n"
   ]
  },
  {
   "cell_type": "markdown",
   "id": "ef3dfd8d",
   "metadata": {},
   "source": []
  }
 ],
 "metadata": {
  "language_info": {
   "name": "python"
  }
 },
 "nbformat": 4,
 "nbformat_minor": 5
}
