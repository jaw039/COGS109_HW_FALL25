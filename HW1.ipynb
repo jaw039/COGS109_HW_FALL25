{
 "cells": [
  {
   "cell_type": "markdown",
   "id": "99f386ee",
   "metadata": {},
   "source": [
    "# COGS 109: Homework 1 \n",
    "**Jackie Wang**\n"
   ]
  },
  {
   "cell_type": "markdown",
   "id": "5a946fc0",
   "metadata": {},
   "source": [
    "### Question 1a\n"
   ]
  },
  {
   "cell_type": "markdown",
   "id": "2a735470",
   "metadata": {},
   "source": [
    "**Answer:** \n",
    "- Y: the ouput variable (also the dependent variable). This is the outcome you are trying to predict or explain. IN this example, Y represents sales\n",
    "- X: the input variables (also the independent variable or the features) These are what you are trying to use when making predictions. In the example, X₁ = TV budget, X₂ = radio budget, X₃ = newspaper budget\n",
    "- f(X): Is an unknown function that represents the relationship between X and Y. \n",
    "- ϵ (epsilon): this is the random error term. "
   ]
  },
  {
   "cell_type": "markdown",
   "id": "7466225d",
   "metadata": {},
   "source": [
    "### Question 1b\n",
    "**Answer:** \n",
    "- n: The number of observations (or samples/rows) in the dataset. \n",
    "- p: The number of predictors (or features/input variables)."
   ]
  },
  {
   "cell_type": "markdown",
   "id": "9cb7d6d8",
   "metadata": {},
   "source": [
    "### Question 1c\n",
    "**Answer:** \n",
    "- Y (Sales): The y-axis values.\n",
    "- X: The x-axis values. \n",
    "- f(X): The blue line.\n",
    "- ϵ (epsilon): The vertical distance between each red circle and the blue line. "
   ]
  },
  {
   "cell_type": "markdown",
   "id": "a136ef71",
   "metadata": {},
   "source": [
    "### Question 2\n",
    "**Answer:**\n",
    "- Reducible error: Errors that can be reduced by using a better model.\n",
    "  Example: Using a linear model when the true relationship is quadratic; we could reduce this error by using a better model.\n",
    "- Irreducible error: Errors that cannot be changed.\n",
    "  Example: We're trying to predict a student's exam score based on hours studied (X = hours studied, Y = exam score). Even with all the data, we still couldn't predict the exact score because we don't know the exam materials or whether the student feels anxious, etc."
   ]
  },
  {
   "cell_type": "markdown",
   "id": "2b3b536c",
   "metadata": {},
   "source": [
    "### Question 3a\n",
    "**Answer:** \n",
    "- Regression (CEO salary is quantitative)\n",
    "- Inference (understanding which factors affect salary)\n",
    "- n = 500, p = 3"
   ]
  },
  {
   "cell_type": "markdown",
   "id": "8da166d3",
   "metadata": {},
   "source": [
    "### Question 3b\n",
    "**Answer:** \n",
    "- Classification (success or failure - categorical outcome)\n",
    "- Prediction (predicting future product outcome)\n",
    "- n = 20, p = 12"
   ]
  },
  {
   "cell_type": "markdown",
   "id": "941d7c65",
   "metadata": {},
   "source": [
    "### Question 3c\n",
    "**Answer:** \n",
    "- Regression (% change is quantitative)\n",
    "- Prediction (predicting future exchange rates)\n",
    "- n = 52, p = 3"
   ]
  },
  {
   "cell_type": "markdown",
   "id": "d8ad7f5e",
   "metadata": {},
   "source": [
    "### Question 4\n",
    "**Answer:**\n",
    " Parametric Advantages:\n",
    "- Simplier, easier to interpret\n",
    "- Requires fewer observations\n",
    "\n",
    "Parametric Disadvantages:\n",
    "- Assumes specific form for f(X)\n",
    "- Poor performance if assumptions wrong\n",
    "- Less flexible\n",
    "\n",
    "When to use non-parametric:\n",
    "\n",
    "- When you don't know the true form of f(X)\n",
    "- When the relationship is complex/non-linear\n",
    "- When you have lots of data"
   ]
  },
  {
   "cell_type": "markdown",
   "id": "ef3dfd8d",
   "metadata": {},
   "source": [
    "### Question 5a\n",
    "**Answer:** \n",
    "- Large n, small p:\n",
    "- Inflexible - With few predictors and lots of data, a simple model works well and avoids overfitting\n"
   ]
  },
  {
   "cell_type": "markdown",
   "id": "b9dc3b68",
   "metadata": {},
   "source": [
    "### Question 5b\n",
    "**Answer:** \n",
    "- Small n, Large p:\n",
    "- Flexible - Need flexibility to handle high-dimensional data, though watch for overfitting with small n\n"
   ]
  },
  {
   "cell_type": "markdown",
   "id": "d920d623",
   "metadata": {},
   "source": [
    "### Question 5c\n",
    "**Answer:** \n",
    "- Non-linear interaction:\n",
    "- Flexible - Need flexibility to capture complex non-linear relationships\n"
   ]
  },
  {
   "cell_type": "markdown",
   "id": "c57b3df7",
   "metadata": {},
   "source": [
    "### Question 5d\n",
    "**Answer:** \n",
    "- High error variance:\n",
    "- Inflexible - Flexible models would overfit to noise; inflexible models are more stable\n"
   ]
  },
  {
   "cell_type": "markdown",
   "id": "71b50f0c",
   "metadata": {},
   "source": [
    "### Question 6\n",
    "**Answer:** \n",
    "- Inflexible models are easier to read as you can clearly see how each predictor are affecting the responses. Flexible models predicts well but don't really explain how or why predictors relates to the outcome. \n"
   ]
  },
  {
   "cell_type": "markdown",
   "id": "e47ae747",
   "metadata": {},
   "source": [
    "### Question 7\n",
    "**Answer:** \n",
    "- a. Essay classifier: Supervised (have labels: ChatGPT or not)\n",
    "- b. Personality subtypes: Unsupervised (no labels, finding groups)\n",
    "- c. House price prediction: Supervised (have labels: actual prices)"
   ]
  },
  {
   "cell_type": "markdown",
   "id": "e1d991c4",
   "metadata": {},
   "source": []
  }
 ],
 "metadata": {
  "kernelspec": {
   "display_name": "Python (Jupyter Env)",
   "language": "python",
   "name": "jupyter-env"
  },
  "language_info": {
   "codemirror_mode": {
    "name": "ipython",
    "version": 3
   },
   "file_extension": ".py",
   "mimetype": "text/x-python",
   "name": "python",
   "nbconvert_exporter": "python",
   "pygments_lexer": "ipython3",
   "version": "3.13.7"
  }
 },
 "nbformat": 4,
 "nbformat_minor": 5
}
